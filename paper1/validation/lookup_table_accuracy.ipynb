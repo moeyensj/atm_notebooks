{
 "cells": [
  {
   "cell_type": "markdown",
   "metadata": {},
   "source": [
    "## Validation - Lookup Tables\n",
    "\n",
    "In this notebook, we grab the full dynamic range of phase angles observed in the gold sample of WISE observations and randomly sample this range (with a randomly sampled range in $T_{ss}$). We sample 10,000 points in ($\\alpha$, $T_{ss}$) and generate both interpolated and calculated fluxes. We compare the ratio of the interpolated values to the calculated values to determine the maximum deviation."
   ]
  },
  {
   "cell_type": "code",
   "execution_count": 1,
   "metadata": {},
   "outputs": [
    {
     "name": "stdout",
     "output_type": "stream",
     "text": [
      "ATM Version: 1.0\n"
     ]
    }
   ],
   "source": [
    "# Repository locations\n",
    "ATM_DATA_DIR = \"/epyc/projects/atm/atm_data/\"\n",
    "\n",
    "from atm import __version__\n",
    "print(\"ATM Version: {}\".format(__version__))"
   ]
  },
  {
   "cell_type": "code",
   "execution_count": 2,
   "metadata": {},
   "outputs": [],
   "source": [
    "import os \n",
    "import sys\n",
    "import numpy as np \n",
    "import pandas as pd\n",
    "import sqlite3 as sql\n",
    "import matplotlib.pyplot as plt\n",
    "\n",
    "from atm.models import STM, FRM, NEATM\n",
    "from atm.obs import WISE\n",
    "\n",
    "# Additonal imports to make simulated data\n",
    "from atm import Config\n",
    "\n",
    "%matplotlib inline"
   ]
  },
  {
   "cell_type": "code",
   "execution_count": 3,
   "metadata": {},
   "outputs": [],
   "source": [
    "DPI = 300\n",
    "SAVE_DIR = \"../plots/\"\n",
    "FORMAT = \"png\"\n",
    "\n",
    "SAVE_FIGS = True"
   ]
  },
  {
   "cell_type": "code",
   "execution_count": 4,
   "metadata": {},
   "outputs": [],
   "source": [
    "con = sql.connect(os.path.join(ATM_DATA_DIR, \"paper1/sample.db\"))"
   ]
  },
  {
   "cell_type": "code",
   "execution_count": 5,
   "metadata": {},
   "outputs": [],
   "source": [
    "# Instantiate observatory and NEATM class for simulating data\n",
    "obs = WISE()\n",
    "model = NEATM(verbose=False)"
   ]
  },
  {
   "cell_type": "code",
   "execution_count": 6,
   "metadata": {},
   "outputs": [],
   "source": [
    "# Load WISE quadrature lookup tables into memory \n",
    "model.loadLambdaTables(obs.filterQuadratureLambdas, verbose=False)"
   ]
  },
  {
   "cell_type": "code",
   "execution_count": 7,
   "metadata": {},
   "outputs": [],
   "source": [
    "observations = pd.read_sql(\"\"\"SELECT * FROM observations WHERE keep == 1\"\"\", con)"
   ]
  },
  {
   "cell_type": "code",
   "execution_count": 8,
   "metadata": {},
   "outputs": [],
   "source": [
    "max_alpha = np.radians(observations[\"alpha_deg\"].values).max()\n",
    "min_alpha = np.radians(observations[\"alpha_deg\"].values).min()\n",
    "mean_alpha = np.radians(observations[\"alpha_deg\"].values).mean()"
   ]
  },
  {
   "cell_type": "code",
   "execution_count": 9,
   "metadata": {},
   "outputs": [
    {
     "name": "stdout",
     "output_type": "stream",
     "text": [
      "0.17411055552045032\n",
      "1.4910469972835196\n",
      "0.43990741193784505\n"
     ]
    }
   ],
   "source": [
    "print(min_alpha)\n",
    "print(max_alpha)\n",
    "print(mean_alpha)"
   ]
  },
  {
   "cell_type": "code",
   "execution_count": 10,
   "metadata": {},
   "outputs": [],
   "source": [
    "T_ss = np.random.uniform(low=100, high=1200, size=10000)\n",
    "alpha = np.random.uniform(low=0.0, high=np.pi/2, size=10000)"
   ]
  },
  {
   "cell_type": "code",
   "execution_count": 11,
   "metadata": {},
   "outputs": [],
   "source": [
    "max_ratio = []\n",
    "min_ratio = []\n",
    "mean_ratio = []\n",
    "sigma = []\n",
    "\n",
    "for table in obs.filterQuadratureLambdas:\n",
    "    flux_calc = model.calcTotalFluxLambdaEmittedToObsMany(np.array([table for i in range(len(T_ss))]), T_ss, alpha, threads=40)\n",
    "    flux_interp = model.interpTotalFluxLambdaEmittedToObs(table, T_ss, alpha)\n",
    "    \n",
    "    ratio = flux_interp/flux_calc\n",
    "    \n",
    "    max_ratio.append(np.max(ratio))\n",
    "    min_ratio.append(np.min(ratio))\n",
    "    mean_ratio.append(np.mean(ratio))\n",
    "    sigma.append(np.std(ratio))"
   ]
  },
  {
   "cell_type": "code",
   "execution_count": 12,
   "metadata": {},
   "outputs": [
    {
     "data": {
      "text/plain": [
       "[0.9999999840960542,\n",
       " 0.9999999919454925,\n",
       " 0.9999999952476232,\n",
       " 0.9999999965908822,\n",
       " 0.9999999966674401,\n",
       " 0.999999944590632,\n",
       " 1.000000002017576,\n",
       " 1.0000000323110998,\n",
       " 1.000000068345077]"
      ]
     },
     "execution_count": 12,
     "metadata": {},
     "output_type": "execute_result"
    }
   ],
   "source": [
    "mean_ratio"
   ]
  },
  {
   "cell_type": "code",
   "execution_count": 13,
   "metadata": {},
   "outputs": [
    {
     "data": {
      "text/plain": [
       "[1.0000757831211657,\n",
       " 1.0000379214528976,\n",
       " 1.0000173589918349,\n",
       " 1.0000093522097009,\n",
       " 1.0000081922293615,\n",
       " 1.0000304002181821,\n",
       " 1.0000668154743655,\n",
       " 1.0001355923448865,\n",
       " 1.0002241474099238]"
      ]
     },
     "execution_count": 13,
     "metadata": {},
     "output_type": "execute_result"
    }
   ],
   "source": [
    "max_ratio"
   ]
  },
  {
   "cell_type": "code",
   "execution_count": null,
   "metadata": {},
   "outputs": [],
   "source": []
  }
 ],
 "metadata": {
  "kernelspec": {
   "display_name": "Python [conda env:atm_py36]",
   "language": "python",
   "name": "conda-env-atm_py36-py"
  },
  "language_info": {
   "codemirror_mode": {
    "name": "ipython",
    "version": 3
   },
   "file_extension": ".py",
   "mimetype": "text/x-python",
   "name": "python",
   "nbconvert_exporter": "python",
   "pygments_lexer": "ipython3",
   "version": "3.6.10"
  }
 },
 "nbformat": 4,
 "nbformat_minor": 4
}
